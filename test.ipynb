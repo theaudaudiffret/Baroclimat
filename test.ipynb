{
 "cells": [
  {
   "cell_type": "code",
   "execution_count": 50,
   "metadata": {},
   "outputs": [
    {
     "data": {
      "text/plain": [
       "0                2024-01-01\n",
       "1                2024-01-01\n",
       "2                2024-01-01\n",
       "3                2024-01-01\n",
       "4                2024-01-01\n",
       "               ...         \n",
       "2996    2024-12-30 20:12:00\n",
       "2997    2024-12-31 20:15:00\n",
       "2998    2024-12-31 20:32:00\n",
       "2999    2024-12-31 13:16:00\n",
       "3000    2024-12-31 20:26:00\n",
       "Name: date, Length: 3001, dtype: object"
      ]
     },
     "execution_count": 50,
     "metadata": {},
     "output_type": "execute_result"
    }
   ],
   "source": [
    "import pandas as pd\n",
    "\n",
    "csv_path = \"Micro_category/Inference/predictions_2024_Micro-lora-8B.csv\"\n",
    "df = pd.read_csv(csv_path)\n",
    "df[\"date\"]"
   ]
  },
  {
   "cell_type": "code",
   "execution_count": 51,
   "metadata": {},
   "outputs": [],
   "source": [
    "df[\"date\"] = df[\"date\"].str.split(\" \").str[0]"
   ]
  },
  {
   "cell_type": "code",
   "execution_count": 52,
   "metadata": {},
   "outputs": [
    {
     "data": {
      "text/plain": [
       "0       2024-01-01\n",
       "1       2024-01-01\n",
       "2       2024-01-01\n",
       "3       2024-01-01\n",
       "4       2024-01-01\n",
       "           ...    \n",
       "2996    2024-12-30\n",
       "2997    2024-12-31\n",
       "2998    2024-12-31\n",
       "2999    2024-12-31\n",
       "3000    2024-12-31\n",
       "Name: date, Length: 3001, dtype: object"
      ]
     },
     "execution_count": 52,
     "metadata": {},
     "output_type": "execute_result"
    }
   ],
   "source": [
    "df[\"date\"] "
   ]
  },
  {
   "cell_type": "code",
   "execution_count": 53,
   "metadata": {},
   "outputs": [
    {
     "data": {
      "text/plain": [
       "12"
      ]
     },
     "execution_count": 53,
     "metadata": {},
     "output_type": "execute_result"
    }
   ],
   "source": [
    "pd.to_datetime(\"2024-12-30 20:12:00\").month"
   ]
  },
  {
   "cell_type": "code",
   "execution_count": 54,
   "metadata": {},
   "outputs": [
    {
     "name": "stdout",
     "output_type": "stream",
     "text": [
      "Nombre de NaT après conversion : 0\n"
     ]
    },
    {
     "data": {
      "text/plain": [
       "0      2024-01-01\n",
       "1      2024-01-01\n",
       "2      2024-01-01\n",
       "3      2024-01-01\n",
       "4      2024-01-01\n",
       "          ...    \n",
       "2996   2024-12-30\n",
       "2997   2024-12-31\n",
       "2998   2024-12-31\n",
       "2999   2024-12-31\n",
       "3000   2024-12-31\n",
       "Name: date_converted, Length: 3001, dtype: datetime64[ns]"
      ]
     },
     "execution_count": 54,
     "metadata": {},
     "output_type": "execute_result"
    }
   ],
   "source": [
    "# Si tout est valide, on peut refaire la conversion en datetime sans erreurs\n",
    "df[\"date_converted\"] = pd.to_datetime(df[\"date\"], errors=\"coerce\")\n",
    "\n",
    "# Vérification finale\n",
    "print(f\"Nombre de NaT après conversion : {df['date_converted'].isna().sum()}\")\n",
    "df[\"date_converted\"]\n"
   ]
  },
  {
   "cell_type": "code",
   "execution_count": null,
   "metadata": {},
   "outputs": [],
   "source": []
  }
 ],
 "metadata": {
  "kernelspec": {
   "display_name": "environnement_polyvalent",
   "language": "python",
   "name": "python3"
  },
  "language_info": {
   "codemirror_mode": {
    "name": "ipython",
    "version": 3
   },
   "file_extension": ".py",
   "mimetype": "text/x-python",
   "name": "python",
   "nbconvert_exporter": "python",
   "pygments_lexer": "ipython3",
   "version": "3.12.0"
  }
 },
 "nbformat": 4,
 "nbformat_minor": 2
}
